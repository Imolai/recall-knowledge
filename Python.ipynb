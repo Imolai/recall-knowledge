{
 "cells": [
  {
   "cell_type": "markdown",
   "id": "8c773ae2-33fc-42c4-941d-e8d3e39b5939",
   "metadata": {},
   "source": [
    "# TL;DR Python"
   ]
  },
  {
   "cell_type": "markdown",
   "id": "5210e908-ea6f-4fe9-a9e8-6c37486b42c8",
   "metadata": {},
   "source": [
    "## Python Basics"
   ]
  },
  {
   "cell_type": "markdown",
   "id": "8182e453-73aa-4306-9460-9476ff52a3b9",
   "metadata": {},
   "source": [
    "### Variables & Data Types"
   ]
  },
  {
   "cell_type": "code",
   "execution_count": 17,
   "id": "11ce2704-9d64-4182-a0be-e9cb47e93367",
   "metadata": {},
   "outputs": [
    {
     "name": "stdout",
     "output_type": "stream",
     "text": [
      "Gabor 42 False\n"
     ]
    }
   ],
   "source": [
    "name = \"Gabor\"\n",
    "age = 42\n",
    "is_student = False\n",
    "print(name, age, is_student)"
   ]
  },
  {
   "cell_type": "markdown",
   "id": "d7065673-0aa0-4d78-9be7-e2dcc09842d7",
   "metadata": {},
   "source": [
    "### List, Tuple, Set & Dictionary"
   ]
  },
  {
   "cell_type": "code",
   "execution_count": 18,
   "id": "136d1e2d-038b-46b5-be89-04cc872368d7",
   "metadata": {},
   "outputs": [
    {
     "name": "stdout",
     "output_type": "stream",
     "text": [
      "[1, 2, 3] (1, 2, 3) {1, 2, 3} {'name': 'Gabor', 'age': 42}\n"
     ]
    }
   ],
   "source": [
    "my_list = [1, 2, 3]\n",
    "my_tuple = (1, 2, 3)\n",
    "my_set = {1, 2, 3}\n",
    "my_dict = {\"name\": \"Gabor\", \"age\": 42}\n",
    "print(my_list, my_tuple, my_set, my_dict)"
   ]
  },
  {
   "cell_type": "markdown",
   "id": "3e7bb16a-606b-408b-815d-bac70c3caca5",
   "metadata": {},
   "source": [
    "### Conditionals & Loops"
   ]
  },
  {
   "cell_type": "code",
   "execution_count": 19,
   "id": "6759283a-4cc3-4699-b79a-cf1b45350618",
   "metadata": {},
   "outputs": [
    {
     "name": "stdout",
     "output_type": "stream",
     "text": [
      "42\n",
      "Adult\n",
      "[0, 1, 2, 3, 4]\n",
      "0\n",
      "1\n",
      "2\n",
      "3\n",
      "4\n",
      "43\n",
      "44\n",
      "45\n",
      "46\n",
      "47\n",
      "48\n",
      "49\n",
      "49\n"
     ]
    }
   ],
   "source": [
    "print(age)\n",
    "if age > 18:\n",
    "    print(\"Adult\")\n",
    "elif age < 13:\n",
    "    print(\"Child\")\n",
    "else:\n",
    "    print(\"Teenager\")\n",
    "\n",
    "print(list(range(5)))\n",
    "for i in range(5):\n",
    "    print(i)\n",
    "\n",
    "while age < 49:\n",
    "    age += 1\n",
    "    print(age)\n",
    "\n",
    "print(age)"
   ]
  },
  {
   "cell_type": "markdown",
   "id": "3523f5db-066b-4090-9f3b-19bfe279e9be",
   "metadata": {},
   "source": [
    "### Functions"
   ]
  },
  {
   "cell_type": "code",
   "execution_count": 20,
   "id": "e0048674-8588-4499-a825-2ba2217c3d80",
   "metadata": {},
   "outputs": [
    {
     "name": "stdout",
     "output_type": "stream",
     "text": [
      "Hello, Default\n",
      "Hello, World\n"
     ]
    }
   ],
   "source": [
    "def greet(name=\"Default\"):\n",
    "    return f\"Hello, {name}\"\n",
    "\n",
    "\n",
    "print(greet())\n",
    "print(greet(\"World\"))"
   ]
  },
  {
   "cell_type": "markdown",
   "id": "b650baa7-c1cb-4209-a0b0-aa9d63a1a95a",
   "metadata": {},
   "source": [
    "### List Comprehension"
   ]
  },
  {
   "cell_type": "code",
   "execution_count": 21,
   "id": "bb4e3b1a-9385-4b0a-9077-fba82f5b934f",
   "metadata": {},
   "outputs": [
    {
     "name": "stdout",
     "output_type": "stream",
     "text": [
      "[0, 1, 4, 9, 16]\n",
      "\n",
      "Equivalent imperative code:\n",
      "squares = []\n",
      "for x in range(5):\n",
      "    squares.append(x * x)\n",
      "print(squares)\n",
      "\n"
     ]
    }
   ],
   "source": [
    "squares = [x * x for x in range(5)]\n",
    "print(squares)\n",
    "\n",
    "print(\n",
    "    \"\"\"\n",
    "Equivalent imperative code:\n",
    "squares = []\n",
    "for x in range(5):\n",
    "    squares.append(x * x)\n",
    "print(squares)\n",
    "\"\"\"\n",
    ")"
   ]
  },
  {
   "cell_type": "markdown",
   "id": "50129f9c-243d-41d8-a68b-62a50b2083c4",
   "metadata": {},
   "source": [
    "## Intermediate Python"
   ]
  },
  {
   "cell_type": "markdown",
   "id": "32388622-d5d8-4b17-80cc-20fb0c1af5d0",
   "metadata": {},
   "source": [
    "### Classes & OOP"
   ]
  },
  {
   "cell_type": "code",
   "execution_count": 22,
   "id": "812d8863-2b84-4257-86a1-fc1972a03972",
   "metadata": {},
   "outputs": [
    {
     "name": "stdout",
     "output_type": "stream",
     "text": [
      "Hello, my name is Gabor.\n",
      "I am 42 years old.\n"
     ]
    }
   ],
   "source": [
    "class Person:\n",
    "    def __init__(self, name, age):\n",
    "        self.name = name\n",
    "        self.age = age\n",
    "\n",
    "    def intro(self):\n",
    "        return f\"Hello, my name is {self.name}.\"\n",
    "\n",
    "    def old(self):\n",
    "        return f\"I am {self.age} years old.\"\n",
    "\n",
    "\n",
    "gabor = Person(\"Gabor\", 42)\n",
    "print(gabor.intro())\n",
    "print(gabor.old())"
   ]
  },
  {
   "cell_type": "markdown",
   "id": "83ed641c-02ff-4396-874e-4852f1fde20e",
   "metadata": {},
   "source": [
    "### Exceptions"
   ]
  },
  {
   "cell_type": "code",
   "execution_count": 23,
   "id": "3151f50c-1203-4200-b7c5-90d303ba0887",
   "metadata": {},
   "outputs": [
    {
     "name": "stdout",
     "output_type": "stream",
     "text": [
      "Cannot divide by zero!\n"
     ]
    }
   ],
   "source": [
    "try:\n",
    "    1 / 0\n",
    "except ZeroDivisionError:\n",
    "    print(\"Cannot divide by zero!\")"
   ]
  },
  {
   "cell_type": "markdown",
   "id": "91607acb-04a3-478e-9e1a-07ce9a08cb71",
   "metadata": {},
   "source": [
    "### Modules & Packages"
   ]
  },
  {
   "cell_type": "code",
   "execution_count": 24,
   "id": "9a26ff0c-e97e-4f52-b7ce-8d8bbce5fa54",
   "metadata": {},
   "outputs": [],
   "source": [
    "# import entire module\n",
    "import math  # can throw ModuleNotFoundError\n",
    "\n",
    "sqrt_4 = math.sqrt(4)\n",
    "\n",
    "# import specific function\n",
    "from math import sqrt  # can throw ImportError"
   ]
  },
  {
   "cell_type": "markdown",
   "id": "11ebff9d-480d-464b-8deb-de9a0a57e5db",
   "metadata": {},
   "source": [
    "### File Handling"
   ]
  },
  {
   "cell_type": "code",
   "execution_count": 29,
   "id": "dd21d743-2116-4521-b89a-d866cd0a17c5",
   "metadata": {},
   "outputs": [
    {
     "name": "stdout",
     "output_type": "stream",
     "text": [
      "'Hello Files!\n",
      "\n",
      "'\n"
     ]
    }
   ],
   "source": [
    "with open(\"file.txt\", \"w\") as file:\n",
    "    print(\"Hello Files!\\n\", file=file)\n",
    "\n",
    "with open(\"file.txt\", \"r\") as file:\n",
    "    content = file.read()\n",
    "\n",
    "print(f\"'{content}'\")"
   ]
  },
  {
   "cell_type": "markdown",
   "id": "1a1f34b5-4354-4cba-9685-e11b3c1f689e",
   "metadata": {},
   "source": [
    "## Advanced Python"
   ]
  },
  {
   "cell_type": "markdown",
   "id": "ab32b992-25c0-4f68-997d-2919f167d28a",
   "metadata": {},
   "source": [
    "### Generators"
   ]
  },
  {
   "cell_type": "code",
   "execution_count": 34,
   "id": "2fe83ca3-04f8-40c2-a0d1-cebe23941bba",
   "metadata": {},
   "outputs": [
    {
     "name": "stdout",
     "output_type": "stream",
     "text": [
      "0\n",
      "1\n",
      "4\n",
      "9\n",
      "16\n",
      "Iteration finished.\n",
      "0\n",
      "1\n",
      "4\n",
      "9\n",
      "16\n"
     ]
    }
   ],
   "source": [
    "def my_gen(n):\n",
    "    for i in range(n):\n",
    "        yield i*i\n",
    "\n",
    "gen = my_gen(5)\n",
    "\n",
    "try:\n",
    "    print(next(gen))\n",
    "    print(next(gen))\n",
    "    print(next(gen))\n",
    "    print(next(gen))\n",
    "    print(next(gen))\n",
    "    print(next(gen))\n",
    "except StopIteration:\n",
    "    print(\"Iteration finished.\")\n",
    "\n",
    "gen = my_gen(5)\n",
    "for g in gen:\n",
    "    print(g)"
   ]
  },
  {
   "cell_type": "code",
   "execution_count": null,
   "id": "68586800-bfbd-45be-a3e4-a8c61eda92b8",
   "metadata": {},
   "outputs": [],
   "source": []
  }
 ],
 "metadata": {
  "kernelspec": {
   "display_name": "Python 3 (ipykernel)",
   "language": "python",
   "name": "python3"
  },
  "language_info": {
   "codemirror_mode": {
    "name": "ipython",
    "version": 3
   },
   "file_extension": ".py",
   "mimetype": "text/x-python",
   "name": "python",
   "nbconvert_exporter": "python",
   "pygments_lexer": "ipython3",
   "version": "3.10.12"
  }
 },
 "nbformat": 4,
 "nbformat_minor": 5
}
