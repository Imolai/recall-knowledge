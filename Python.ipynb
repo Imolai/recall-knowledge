{
 "cells": [
  {
   "cell_type": "markdown",
   "id": "8c773ae2-33fc-42c4-941d-e8d3e39b5939",
   "metadata": {},
   "source": [
    "# TL;DR Python"
   ]
  },
  {
   "cell_type": "markdown",
   "id": "5210e908-ea6f-4fe9-a9e8-6c37486b42c8",
   "metadata": {},
   "source": [
    "## Python Basics"
   ]
  },
  {
   "cell_type": "markdown",
   "id": "8182e453-73aa-4306-9460-9476ff52a3b9",
   "metadata": {},
   "source": [
    "### Variables & Data Types"
   ]
  },
  {
   "cell_type": "code",
   "execution_count": 1,
   "id": "11ce2704-9d64-4182-a0be-e9cb47e93367",
   "metadata": {},
   "outputs": [
    {
     "name": "stdout",
     "output_type": "stream",
     "text": [
      "Gabor 42 False\n"
     ]
    }
   ],
   "source": [
    "name = \"Gabor\"\n",
    "age = 42\n",
    "is_student = False\n",
    "print(name, age, is_student)"
   ]
  },
  {
   "cell_type": "markdown",
   "id": "d7065673-0aa0-4d78-9be7-e2dcc09842d7",
   "metadata": {},
   "source": [
    "### List, Tuple, Set & Dictionary"
   ]
  },
  {
   "cell_type": "code",
   "execution_count": 2,
   "id": "136d1e2d-038b-46b5-be89-04cc872368d7",
   "metadata": {},
   "outputs": [
    {
     "name": "stdout",
     "output_type": "stream",
     "text": [
      "[1, 2, 3] (1, 2, 3) {1, 2, 3} {'name': 'Gabor', 'age': 42}\n"
     ]
    }
   ],
   "source": [
    "my_list = [1, 2, 3]\n",
    "my_tuple = (1, 2, 3)\n",
    "my_set = {1, 2, 3}\n",
    "my_dict = {\"name\": \"Gabor\", \"age\": 42}\n",
    "print(my_list, my_tuple, my_set, my_dict)"
   ]
  },
  {
   "cell_type": "markdown",
   "id": "3e7bb16a-606b-408b-815d-bac70c3caca5",
   "metadata": {},
   "source": [
    "### Conditionals & Loops"
   ]
  },
  {
   "cell_type": "code",
   "execution_count": 3,
   "id": "6759283a-4cc3-4699-b79a-cf1b45350618",
   "metadata": {},
   "outputs": [
    {
     "name": "stdout",
     "output_type": "stream",
     "text": [
      "42\n",
      "Adult\n",
      "[0, 1, 2, 3, 4]\n",
      "0\n",
      "1\n",
      "2\n",
      "3\n",
      "4\n",
      "43\n",
      "44\n",
      "45\n",
      "46\n",
      "47\n",
      "48\n",
      "49\n",
      "49\n"
     ]
    }
   ],
   "source": [
    "print(age)\n",
    "if age > 18:\n",
    "    print(\"Adult\")\n",
    "elif age < 13:\n",
    "    print(\"Child\")\n",
    "else:\n",
    "    print(\"Teenager\")\n",
    "\n",
    "print(list(range(5)))\n",
    "for i in range(5):\n",
    "    print(i)\n",
    "\n",
    "while age < 49:\n",
    "    age += 1\n",
    "    print(age)\n",
    "\n",
    "print(age)"
   ]
  },
  {
   "cell_type": "markdown",
   "id": "3523f5db-066b-4090-9f3b-19bfe279e9be",
   "metadata": {},
   "source": [
    "### Functions"
   ]
  },
  {
   "cell_type": "code",
   "execution_count": 4,
   "id": "e0048674-8588-4499-a825-2ba2217c3d80",
   "metadata": {},
   "outputs": [
    {
     "name": "stdout",
     "output_type": "stream",
     "text": [
      "Hello, Default\n",
      "Hello, World\n"
     ]
    }
   ],
   "source": [
    "def greet(name=\"Default\"):\n",
    "    return f\"Hello, {name}\"\n",
    "\n",
    "\n",
    "print(greet())\n",
    "print(greet(\"World\"))"
   ]
  },
  {
   "cell_type": "markdown",
   "id": "b650baa7-c1cb-4209-a0b0-aa9d63a1a95a",
   "metadata": {},
   "source": [
    "### List Comprehension"
   ]
  },
  {
   "cell_type": "code",
   "execution_count": 5,
   "id": "bb4e3b1a-9385-4b0a-9077-fba82f5b934f",
   "metadata": {},
   "outputs": [
    {
     "name": "stdout",
     "output_type": "stream",
     "text": [
      "[0, 1, 4, 9, 16]\n",
      "\n",
      "Equivalent imperative code:\n",
      "squares = []\n",
      "for x in range(5):\n",
      "    squares.append(x * x)\n",
      "print(squares)\n",
      "\n"
     ]
    }
   ],
   "source": [
    "squares = [x * x for x in range(5)]\n",
    "print(squares)\n",
    "\n",
    "print(\n",
    "    \"\"\"\n",
    "Equivalent imperative code:\n",
    "squares = []\n",
    "for x in range(5):\n",
    "    squares.append(x * x)\n",
    "print(squares)\n",
    "\"\"\"\n",
    ")"
   ]
  },
  {
   "cell_type": "markdown",
   "id": "50129f9c-243d-41d8-a68b-62a50b2083c4",
   "metadata": {},
   "source": [
    "## Intermediate Python"
   ]
  },
  {
   "cell_type": "markdown",
   "id": "32388622-d5d8-4b17-80cc-20fb0c1af5d0",
   "metadata": {},
   "source": [
    "### Classes & OOP"
   ]
  },
  {
   "cell_type": "code",
   "execution_count": 6,
   "id": "812d8863-2b84-4257-86a1-fc1972a03972",
   "metadata": {},
   "outputs": [
    {
     "name": "stdout",
     "output_type": "stream",
     "text": [
      "Hello, my name is Gabor.\n",
      "I am 42 years old.\n"
     ]
    }
   ],
   "source": [
    "class Person:\n",
    "    def __init__(self, name, age):\n",
    "        self.name = name\n",
    "        self.age = age\n",
    "\n",
    "    def intro(self):\n",
    "        return f\"Hello, my name is {self.name}.\"\n",
    "\n",
    "    def old(self):\n",
    "        return f\"I am {self.age} years old.\"\n",
    "\n",
    "\n",
    "gabor = Person(\"Gabor\", 42)\n",
    "print(gabor.intro())\n",
    "print(gabor.old())"
   ]
  },
  {
   "cell_type": "markdown",
   "id": "83ed641c-02ff-4396-874e-4852f1fde20e",
   "metadata": {},
   "source": [
    "### Exceptions"
   ]
  },
  {
   "cell_type": "code",
   "execution_count": 7,
   "id": "3151f50c-1203-4200-b7c5-90d303ba0887",
   "metadata": {},
   "outputs": [
    {
     "name": "stdout",
     "output_type": "stream",
     "text": [
      "Cannot divide by zero!\n"
     ]
    }
   ],
   "source": [
    "try:\n",
    "    1 / 0\n",
    "except ZeroDivisionError:\n",
    "    print(\"Cannot divide by zero!\")"
   ]
  },
  {
   "cell_type": "markdown",
   "id": "91607acb-04a3-478e-9e1a-07ce9a08cb71",
   "metadata": {},
   "source": [
    "### Modules & Packages"
   ]
  },
  {
   "cell_type": "code",
   "execution_count": 8,
   "id": "9a26ff0c-e97e-4f52-b7ce-8d8bbce5fa54",
   "metadata": {},
   "outputs": [],
   "source": [
    "# import entire module\n",
    "import math  # can throw ModuleNotFoundError\n",
    "\n",
    "sqrt_4 = math.sqrt(4)\n",
    "\n",
    "# import specific function\n",
    "from math import sqrt  # can throw ImportError"
   ]
  },
  {
   "cell_type": "markdown",
   "id": "11ebff9d-480d-464b-8deb-de9a0a57e5db",
   "metadata": {},
   "source": [
    "### File Handling"
   ]
  },
  {
   "cell_type": "code",
   "execution_count": 9,
   "id": "dd21d743-2116-4521-b89a-d866cd0a17c5",
   "metadata": {},
   "outputs": [
    {
     "name": "stdout",
     "output_type": "stream",
     "text": [
      "'Hello Files!\n",
      "\n",
      "'\n"
     ]
    }
   ],
   "source": [
    "with open(\"file.txt\", \"w\") as file:\n",
    "    print(\"Hello Files!\\n\", file=file)\n",
    "\n",
    "with open(\"file.txt\", \"r\") as file:\n",
    "    content = file.read()\n",
    "\n",
    "print(f\"'{content}'\")"
   ]
  },
  {
   "cell_type": "markdown",
   "id": "1a1f34b5-4354-4cba-9685-e11b3c1f689e",
   "metadata": {},
   "source": [
    "## Advanced Python"
   ]
  },
  {
   "cell_type": "markdown",
   "id": "ab32b992-25c0-4f68-997d-2919f167d28a",
   "metadata": {},
   "source": [
    "### Generators"
   ]
  },
  {
   "cell_type": "code",
   "execution_count": 10,
   "id": "2fe83ca3-04f8-40c2-a0d1-cebe23941bba",
   "metadata": {},
   "outputs": [
    {
     "name": "stdout",
     "output_type": "stream",
     "text": [
      "0\n",
      "1\n",
      "4\n",
      "9\n",
      "16\n",
      "Iteration finished.\n",
      "0\n",
      "1\n",
      "4\n",
      "9\n",
      "16\n"
     ]
    }
   ],
   "source": [
    "def my_gen(n):\n",
    "    for i in range(n):\n",
    "        yield i*i\n",
    "\n",
    "gen = my_gen(5)\n",
    "\n",
    "try:\n",
    "    print(next(gen))\n",
    "    print(next(gen))\n",
    "    print(next(gen))\n",
    "    print(next(gen))\n",
    "    print(next(gen))\n",
    "    print(next(gen))\n",
    "except StopIteration:\n",
    "    print(\"Iteration finished.\")\n",
    "\n",
    "gen = my_gen(5)\n",
    "for g in gen:\n",
    "    print(g)"
   ]
  },
  {
   "cell_type": "markdown",
   "id": "da7ac2f7-f8bf-424e-a071-4e8f254b6d4e",
   "metadata": {},
   "source": [
    "### Decorators"
   ]
  },
  {
   "cell_type": "code",
   "execution_count": 14,
   "id": "011b4f33-be6b-45e5-8063-677441a8b9f1",
   "metadata": {},
   "outputs": [
    {
     "name": "stdout",
     "output_type": "stream",
     "text": [
      "Before the function is called.\n",
      "Hello!\n",
      "After the function is called.\n"
     ]
    }
   ],
   "source": [
    "def my_decorator(func):\n",
    "    def wrapper():\n",
    "        print(\"Before the function is called.\")\n",
    "        func()\n",
    "        print(\"After the function is called.\")\n",
    "    return wrapper\n",
    "\n",
    "def say_hello():\n",
    "    print(\"Hello!\")\n",
    "\n",
    "say_hello = my_decorator(say_hello)\n",
    "'''\n",
    "@my_decorator\n",
    "def say_hello():\n",
    "    print(\"Hello!\")\n",
    "'''\n",
    "say_hello()"
   ]
  },
  {
   "cell_type": "markdown",
   "id": "1307add2-1137-4892-9ec8-cd4979fcfb85",
   "metadata": {},
   "source": [
    "Or, with arguments:"
   ]
  },
  {
   "cell_type": "code",
   "execution_count": 16,
   "id": "69a22cee-f25b-4dfd-8131-9acb42e0ba9e",
   "metadata": {},
   "outputs": [
    {
     "name": "stdout",
     "output_type": "stream",
     "text": [
      "Alice is sleeping at 5:00 AM. Brrr... The phone rings.\n",
      "- Hello, Alice!\n",
      "Alice's eyes suddenly open. It is 5:10 AM.\n"
     ]
    }
   ],
   "source": [
    "def decorator_with_args(arg1, arg2):\n",
    "    def decorator(func):\n",
    "        def wrapper(*args, **kwargs):\n",
    "            print(f\"{args[0]} is sleeping at {arg1}. Brrr... The phone rings.\")\n",
    "            func(*args, **kwargs)\n",
    "            print(f\"{args[0]}'s eyes suddenly open. It is {arg2}.\")\n",
    "        return wrapper\n",
    "    return decorator\n",
    "\n",
    "@decorator_with_args(\"5:00 AM\", \"5:10 AM\")\n",
    "def say_hello(name):\n",
    "    print(f\"- Hello, {name}!\")\n",
    "\n",
    "say_hello(\"Alice\")"
   ]
  },
  {
   "cell_type": "markdown",
   "id": "4ded0920-b6b4-4252-9787-866b83e3dabe",
   "metadata": {},
   "source": [
    "### Lambda Functions"
   ]
  },
  {
   "cell_type": "code",
   "execution_count": 17,
   "id": "cb6e5ade-1456-4527-9732-7cf9848e53fd",
   "metadata": {},
   "outputs": [
    {
     "name": "stdout",
     "output_type": "stream",
     "text": [
      "9\n"
     ]
    }
   ],
   "source": [
    "square = lambda x: x * x\n",
    "\n",
    "print(square(3))"
   ]
  },
  {
   "cell_type": "markdown",
   "id": "aaf054de-929b-4603-8e3e-ee7735037ee9",
   "metadata": {},
   "source": [
    "### Context Managers"
   ]
  },
  {
   "cell_type": "code",
   "execution_count": 19,
   "id": "cf786d2b-43cb-4a3e-bdf2-879ee433b7a3",
   "metadata": {},
   "outputs": [
    {
     "name": "stdout",
     "output_type": "stream",
     "text": [
      "Hello Files!\n",
      "\n",
      "\n"
     ]
    }
   ],
   "source": [
    "class ManagedFile:\n",
    "    def __init__(self, filename):\n",
    "        self.filename = filename\n",
    "\n",
    "    def __enter__(self):\n",
    "        self.file = open(self.filename, 'r')\n",
    "        return self.file\n",
    "\n",
    "    def __exit__(self, exc_type, exc_val, exc_tb):\n",
    "        if self.file:\n",
    "            self.file.close()\n",
    "\n",
    "with ManagedFile('file.txt') as f:\n",
    "    content = f.read()\n",
    "\n",
    "print(content)"
   ]
  },
  {
   "cell_type": "markdown",
   "id": "9ffd4611-c70f-47e5-9108-14414b48b89c",
   "metadata": {},
   "source": [
    "### Metaclasses & Metaprogramming"
   ]
  },
  {
   "cell_type": "code",
   "execution_count": 21,
   "id": "1afde006-e193-422c-998b-30907dcecc8c",
   "metadata": {},
   "outputs": [
    {
     "name": "stdout",
     "output_type": "stream",
     "text": [
      "True\n",
      "True\n"
     ]
    }
   ],
   "source": [
    "class Meta(type):\n",
    "    def __new__(cls, name, bases, class_dict):\n",
    "        # Add a new attribute\n",
    "        class_dict['created_by_meta'] = True\n",
    "        return super(Meta, cls).__new__(cls, name, bases, class_dict)\n",
    "\n",
    "class MyClass(metaclass=Meta):\n",
    "    pass\n",
    "\n",
    "# Check if attribute exists\n",
    "print(hasattr(MyClass, 'created_by_meta'))\n",
    "print(MyClass.created_by_meta)"
   ]
  },
  {
   "cell_type": "markdown",
   "id": "49f0e339-1450-45d0-a417-90f29d517c01",
   "metadata": {},
   "source": [
    "### Concurrency with Threading"
   ]
  },
  {
   "cell_type": "code",
   "execution_count": 27,
   "id": "ba893dfd-5cc3-4e22-8da0-6cacf340775e",
   "metadata": {},
   "outputs": [
    {
     "name": "stdout",
     "output_type": "stream",
     "text": [
      "thread\n",
      "main\n",
      "main\n",
      "thread\n",
      "thread\n",
      "main\n",
      "thread\n",
      "main\n",
      "main\n",
      "thread\n"
     ]
    }
   ],
   "source": [
    "import threading\n",
    "import time\n",
    "\n",
    "def say(s):\n",
    "    for i in range(5):\n",
    "        time.sleep(0.1)  # Sleep for 100 milliseconds\n",
    "        print(s)\n",
    "\n",
    "def main():\n",
    "    t = threading.Thread(target=say, args=(\"thread\",))\n",
    "    t.start()\n",
    "    say(\"main\")\n",
    "\n",
    "if __name__ == \"__main__\":\n",
    "    main()"
   ]
  },
  {
   "cell_type": "markdown",
   "id": "4cac32ba-17dd-4a6d-9024-8ccf6a8bcfe6",
   "metadata": {},
   "source": [
    "## Master Level Python"
   ]
  },
  {
   "cell_type": "markdown",
   "id": "a5283813-2e3b-48fc-b877-d0ff1c5fa421",
   "metadata": {},
   "source": [
    "### Numpy"
   ]
  },
  {
   "cell_type": "code",
   "execution_count": 29,
   "id": "e60076c7-f6c5-4b40-9137-08a7ebdad638",
   "metadata": {},
   "outputs": [
    {
     "name": "stdout",
     "output_type": "stream",
     "text": [
      "15 3.0\n"
     ]
    }
   ],
   "source": [
    "import numpy as np\n",
    "arr = np.array([1, 2, 3, 4, 5])\n",
    "print(arr.sum(), arr.mean())"
   ]
  },
  {
   "cell_type": "markdown",
   "id": "83fe5c53-bfd8-4f1e-829e-79c40051b008",
   "metadata": {},
   "source": [
    "### Pandas"
   ]
  },
  {
   "cell_type": "code",
   "execution_count": 32,
   "id": "a089acc1-e09f-419a-bb01-1ff6222cdbc7",
   "metadata": {},
   "outputs": [
    {
     "name": "stdout",
     "output_type": "stream",
     "text": [
      "   A  B\n",
      "0  1  3\n",
      "1  2  4\n"
     ]
    }
   ],
   "source": [
    "import pandas as pd\n",
    "df = pd.DataFrame({\"A\": [1, 2], \"B\": [3, 4]})\n",
    "print(df)"
   ]
  },
  {
   "cell_type": "markdown",
   "id": "c2e21976-1c1c-416d-b1c0-6404cffa0b6c",
   "metadata": {},
   "source": [
    "### TensorFlow & Keras"
   ]
  },
  {
   "cell_type": "code",
   "execution_count": 38,
   "id": "211cfeb4-6455-47aa-a184-7d5a3845109e",
   "metadata": {},
   "outputs": [
    {
     "name": "stdout",
     "output_type": "stream",
     "text": [
      "float32\n"
     ]
    }
   ],
   "source": [
    "import tensorflow as tf\n",
    "model = tf.keras.Sequential()\n",
    "print(model.dtype)"
   ]
  },
  {
   "cell_type": "markdown",
   "id": "4275cddb-3842-4b46-bf6d-5437862f1f4c",
   "metadata": {},
   "source": [
    "### Scikit-learn"
   ]
  },
  {
   "cell_type": "code",
   "execution_count": 44,
   "id": "27985839-de19-49d4-adb4-7633a83889fe",
   "metadata": {},
   "outputs": [],
   "source": [
    "from sklearn.ensemble import RandomForestClassifier\n",
    "clf = RandomForestClassifier()"
   ]
  },
  {
   "cell_type": "markdown",
   "id": "8df8811a-9ab2-4030-bd3c-f80a223d4c0b",
   "metadata": {},
   "source": [
    "### Python with SQL"
   ]
  },
  {
   "cell_type": "code",
   "execution_count": 46,
   "id": "4520ff36-18be-4e60-9ab8-0f37756fb65a",
   "metadata": {},
   "outputs": [
    {
     "name": "stdout",
     "output_type": "stream",
     "text": [
      "[(1, 'John', 30), (2, 'Jane', 25), (3, 'Doe', 40)]\n"
     ]
    }
   ],
   "source": [
    "import sqlite3\n",
    "\n",
    "# Connecting to SQLite3\n",
    "conn = sqlite3.connect(\"database.db\")\n",
    "cursor = conn.cursor()\n",
    "\n",
    "# Create a new table named 'users'\n",
    "cursor.execute(\"\"\"\n",
    "CREATE TABLE users (\n",
    "    id INTEGER PRIMARY KEY,\n",
    "    name TEXT NOT NULL,\n",
    "    age INTEGER\n",
    ")\n",
    "\"\"\")\n",
    "\n",
    "# Inserting some data\n",
    "cursor.execute(\"INSERT INTO users (name, age) VALUES (?, ?)\", (\"John\", 30))\n",
    "cursor.execute(\"INSERT INTO users (name, age) VALUES (?, ?)\", (\"Jane\", 25))\n",
    "cursor.execute(\"INSERT INTO users (name, age) VALUES (?, ?)\", (\"Doe\", 40))\n",
    "\n",
    "# Commit the transaction\n",
    "conn.commit()\n",
    "\n",
    "# Querying the table\n",
    "cursor.execute(\"SELECT * FROM users\")\n",
    "print(cursor.fetchall())\n",
    "\n",
    "# Close the connection\n",
    "conn.close()"
   ]
  },
  {
   "cell_type": "markdown",
   "id": "7436769b-10ce-4212-82bd-9f575732f301",
   "metadata": {},
   "source": [
    "### Web Services"
   ]
  },
  {
   "cell_type": "markdown",
   "id": "6484f004-0d38-4aca-8694-b142cde8bb5c",
   "metadata": {},
   "source": [
    "#### Requests (HTTP library for consuming APIs)"
   ]
  },
  {
   "cell_type": "code",
   "execution_count": 48,
   "id": "1a517249-e833-4d33-984d-144813d561d2",
   "metadata": {},
   "outputs": [
    {
     "name": "stdout",
     "output_type": "stream",
     "text": [
      "Todo ID: 1, Title: delectus aut autem\n",
      "Todo ID: 2, Title: quis ut nam facilis et officia qui\n",
      "Todo ID: 3, Title: fugiat veniam minus\n",
      "Todo ID: 4, Title: et porro tempora\n",
      "Todo ID: 5, Title: laboriosam mollitia et enim quasi adipisci quia provident illum\n"
     ]
    }
   ],
   "source": [
    "import requests\n",
    "\n",
    "response = requests.get('https://jsonplaceholder.typicode.com/todos')\n",
    "if response.status_code == 200:\n",
    "    data = response.json()\n",
    "    for todo in data[:5]:  # Displaying first 5 todos for simplicity\n",
    "        print(f\"Todo ID: {todo['id']}, Title: {todo['title']}\")\n",
    "else:\n",
    "    print(f\"Failed to retrieve data. HTTP Status Code: {response.status_code}\")"
   ]
  },
  {
   "cell_type": "markdown",
   "id": "672e6c2c-3ade-41b5-aa4b-96934cfbc383",
   "metadata": {},
   "source": [
    "#### Flask (Micro web framework)"
   ]
  },
  {
   "cell_type": "code",
   "execution_count": 53,
   "id": "53a732f8-b4f5-401b-9611-6eb65eda56cf",
   "metadata": {},
   "outputs": [
    {
     "name": "stdout",
     "output_type": "stream",
     "text": [
      " * Serving Flask app '__main__'\n",
      " * Debug mode: on\n"
     ]
    },
    {
     "name": "stderr",
     "output_type": "stream",
     "text": [
      "WARNING: This is a development server. Do not use it in a production deployment. Use a production WSGI server instead.\n",
      " * Running on http://127.0.0.1:5000\n",
      "Press CTRL+C to quit\n"
     ]
    },
    {
     "ename": "ImportError",
     "evalue": "cannot import name 'EVENT_TYPE_OPENED' from 'watchdog.events' (/usr/lib/python3/dist-packages/watchdog/events.py)",
     "output_type": "error",
     "traceback": [
      "\u001b[0;31m---------------------------------------------------------------------------\u001b[0m",
      "\u001b[0;31mImportError\u001b[0m                               Traceback (most recent call last)",
      "Cell \u001b[0;32mIn[53], line 10\u001b[0m\n\u001b[1;32m      7\u001b[0m     \u001b[38;5;28;01mreturn\u001b[39;00m jsonify(message\u001b[38;5;241m=\u001b[39m\u001b[38;5;124m\"\u001b[39m\u001b[38;5;124mHello, World!\u001b[39m\u001b[38;5;124m\"\u001b[39m)\n\u001b[1;32m      9\u001b[0m \u001b[38;5;28;01mif\u001b[39;00m \u001b[38;5;18m__name__\u001b[39m \u001b[38;5;241m==\u001b[39m \u001b[38;5;124m'\u001b[39m\u001b[38;5;124m__main__\u001b[39m\u001b[38;5;124m'\u001b[39m:\n\u001b[0;32m---> 10\u001b[0m     \u001b[43mapp\u001b[49m\u001b[38;5;241;43m.\u001b[39;49m\u001b[43mrun\u001b[49m\u001b[43m(\u001b[49m\u001b[43mdebug\u001b[49m\u001b[38;5;241;43m=\u001b[39;49m\u001b[38;5;28;43;01mTrue\u001b[39;49;00m\u001b[43m)\u001b[49m\n",
      "File \u001b[0;32m~/.local/lib/python3.10/site-packages/flask/app.py:612\u001b[0m, in \u001b[0;36mFlask.run\u001b[0;34m(self, host, port, debug, load_dotenv, **options)\u001b[0m\n\u001b[1;32m    609\u001b[0m \u001b[38;5;28;01mfrom\u001b[39;00m \u001b[38;5;21;01mwerkzeug\u001b[39;00m\u001b[38;5;21;01m.\u001b[39;00m\u001b[38;5;21;01mserving\u001b[39;00m \u001b[38;5;28;01mimport\u001b[39;00m run_simple\n\u001b[1;32m    611\u001b[0m \u001b[38;5;28;01mtry\u001b[39;00m:\n\u001b[0;32m--> 612\u001b[0m     \u001b[43mrun_simple\u001b[49m\u001b[43m(\u001b[49m\u001b[43mt\u001b[49m\u001b[38;5;241;43m.\u001b[39;49m\u001b[43mcast\u001b[49m\u001b[43m(\u001b[49m\u001b[38;5;28;43mstr\u001b[39;49m\u001b[43m,\u001b[49m\u001b[43m \u001b[49m\u001b[43mhost\u001b[49m\u001b[43m)\u001b[49m\u001b[43m,\u001b[49m\u001b[43m \u001b[49m\u001b[43mport\u001b[49m\u001b[43m,\u001b[49m\u001b[43m \u001b[49m\u001b[38;5;28;43mself\u001b[39;49m\u001b[43m,\u001b[49m\u001b[43m \u001b[49m\u001b[38;5;241;43m*\u001b[39;49m\u001b[38;5;241;43m*\u001b[39;49m\u001b[43moptions\u001b[49m\u001b[43m)\u001b[49m\n\u001b[1;32m    613\u001b[0m \u001b[38;5;28;01mfinally\u001b[39;00m:\n\u001b[1;32m    614\u001b[0m     \u001b[38;5;66;03m# reset the first request information if the development server\u001b[39;00m\n\u001b[1;32m    615\u001b[0m     \u001b[38;5;66;03m# reset normally.  This makes it possible to restart the server\u001b[39;00m\n\u001b[1;32m    616\u001b[0m     \u001b[38;5;66;03m# without reloader and that stuff from an interactive shell.\u001b[39;00m\n\u001b[1;32m    617\u001b[0m     \u001b[38;5;28mself\u001b[39m\u001b[38;5;241m.\u001b[39m_got_first_request \u001b[38;5;241m=\u001b[39m \u001b[38;5;28;01mFalse\u001b[39;00m\n",
      "File \u001b[0;32m~/.local/lib/python3.10/site-packages/werkzeug/serving.py:1099\u001b[0m, in \u001b[0;36mrun_simple\u001b[0;34m(hostname, port, application, use_reloader, use_debugger, use_evalex, extra_files, exclude_patterns, reloader_interval, reloader_type, threaded, processes, request_handler, static_files, passthrough_errors, ssl_context)\u001b[0m\n\u001b[1;32m   1096\u001b[0m \u001b[38;5;28;01mfrom\u001b[39;00m \u001b[38;5;21;01m.\u001b[39;00m\u001b[38;5;21;01m_reloader\u001b[39;00m \u001b[38;5;28;01mimport\u001b[39;00m run_with_reloader\n\u001b[1;32m   1098\u001b[0m \u001b[38;5;28;01mtry\u001b[39;00m:\n\u001b[0;32m-> 1099\u001b[0m     \u001b[43mrun_with_reloader\u001b[49m\u001b[43m(\u001b[49m\n\u001b[1;32m   1100\u001b[0m \u001b[43m        \u001b[49m\u001b[43msrv\u001b[49m\u001b[38;5;241;43m.\u001b[39;49m\u001b[43mserve_forever\u001b[49m\u001b[43m,\u001b[49m\n\u001b[1;32m   1101\u001b[0m \u001b[43m        \u001b[49m\u001b[43mextra_files\u001b[49m\u001b[38;5;241;43m=\u001b[39;49m\u001b[43mextra_files\u001b[49m\u001b[43m,\u001b[49m\n\u001b[1;32m   1102\u001b[0m \u001b[43m        \u001b[49m\u001b[43mexclude_patterns\u001b[49m\u001b[38;5;241;43m=\u001b[39;49m\u001b[43mexclude_patterns\u001b[49m\u001b[43m,\u001b[49m\n\u001b[1;32m   1103\u001b[0m \u001b[43m        \u001b[49m\u001b[43minterval\u001b[49m\u001b[38;5;241;43m=\u001b[39;49m\u001b[43mreloader_interval\u001b[49m\u001b[43m,\u001b[49m\n\u001b[1;32m   1104\u001b[0m \u001b[43m        \u001b[49m\u001b[43mreloader_type\u001b[49m\u001b[38;5;241;43m=\u001b[39;49m\u001b[43mreloader_type\u001b[49m\u001b[43m,\u001b[49m\n\u001b[1;32m   1105\u001b[0m \u001b[43m    \u001b[49m\u001b[43m)\u001b[49m\n\u001b[1;32m   1106\u001b[0m \u001b[38;5;28;01mfinally\u001b[39;00m:\n\u001b[1;32m   1107\u001b[0m     srv\u001b[38;5;241m.\u001b[39mserver_close()\n",
      "File \u001b[0;32m~/.local/lib/python3.10/site-packages/werkzeug/_reloader.py:440\u001b[0m, in \u001b[0;36mrun_with_reloader\u001b[0;34m(main_func, extra_files, exclude_patterns, interval, reloader_type)\u001b[0m\n\u001b[1;32m    437\u001b[0m \u001b[38;5;28;01mimport\u001b[39;00m \u001b[38;5;21;01msignal\u001b[39;00m\n\u001b[1;32m    439\u001b[0m signal\u001b[38;5;241m.\u001b[39msignal(signal\u001b[38;5;241m.\u001b[39mSIGTERM, \u001b[38;5;28;01mlambda\u001b[39;00m \u001b[38;5;241m*\u001b[39margs: sys\u001b[38;5;241m.\u001b[39mexit(\u001b[38;5;241m0\u001b[39m))\n\u001b[0;32m--> 440\u001b[0m reloader \u001b[38;5;241m=\u001b[39m \u001b[43mreloader_loops\u001b[49m\u001b[43m[\u001b[49m\u001b[43mreloader_type\u001b[49m\u001b[43m]\u001b[49m\u001b[43m(\u001b[49m\n\u001b[1;32m    441\u001b[0m \u001b[43m    \u001b[49m\u001b[43mextra_files\u001b[49m\u001b[38;5;241;43m=\u001b[39;49m\u001b[43mextra_files\u001b[49m\u001b[43m,\u001b[49m\u001b[43m \u001b[49m\u001b[43mexclude_patterns\u001b[49m\u001b[38;5;241;43m=\u001b[39;49m\u001b[43mexclude_patterns\u001b[49m\u001b[43m,\u001b[49m\u001b[43m \u001b[49m\u001b[43minterval\u001b[49m\u001b[38;5;241;43m=\u001b[39;49m\u001b[43minterval\u001b[49m\n\u001b[1;32m    442\u001b[0m \u001b[43m\u001b[49m\u001b[43m)\u001b[49m\n\u001b[1;32m    444\u001b[0m \u001b[38;5;28;01mtry\u001b[39;00m:\n\u001b[1;32m    445\u001b[0m     \u001b[38;5;28;01mif\u001b[39;00m os\u001b[38;5;241m.\u001b[39menviron\u001b[38;5;241m.\u001b[39mget(\u001b[38;5;124m\"\u001b[39m\u001b[38;5;124mWERKZEUG_RUN_MAIN\u001b[39m\u001b[38;5;124m\"\u001b[39m) \u001b[38;5;241m==\u001b[39m \u001b[38;5;124m\"\u001b[39m\u001b[38;5;124mtrue\u001b[39m\u001b[38;5;124m\"\u001b[39m:\n",
      "File \u001b[0;32m~/.local/lib/python3.10/site-packages/werkzeug/_reloader.py:315\u001b[0m, in \u001b[0;36mWatchdogReloaderLoop.__init__\u001b[0;34m(self, *args, **kwargs)\u001b[0m\n\u001b[1;32m    313\u001b[0m \u001b[38;5;28;01mfrom\u001b[39;00m \u001b[38;5;21;01mwatchdog\u001b[39;00m\u001b[38;5;21;01m.\u001b[39;00m\u001b[38;5;21;01mobservers\u001b[39;00m \u001b[38;5;28;01mimport\u001b[39;00m Observer\n\u001b[1;32m    314\u001b[0m \u001b[38;5;28;01mfrom\u001b[39;00m \u001b[38;5;21;01mwatchdog\u001b[39;00m\u001b[38;5;21;01m.\u001b[39;00m\u001b[38;5;21;01mevents\u001b[39;00m \u001b[38;5;28;01mimport\u001b[39;00m PatternMatchingEventHandler\n\u001b[0;32m--> 315\u001b[0m \u001b[38;5;28;01mfrom\u001b[39;00m \u001b[38;5;21;01mwatchdog\u001b[39;00m\u001b[38;5;21;01m.\u001b[39;00m\u001b[38;5;21;01mevents\u001b[39;00m \u001b[38;5;28;01mimport\u001b[39;00m EVENT_TYPE_OPENED\n\u001b[1;32m    316\u001b[0m \u001b[38;5;28;01mfrom\u001b[39;00m \u001b[38;5;21;01mwatchdog\u001b[39;00m\u001b[38;5;21;01m.\u001b[39;00m\u001b[38;5;21;01mevents\u001b[39;00m \u001b[38;5;28;01mimport\u001b[39;00m FileModifiedEvent\n\u001b[1;32m    318\u001b[0m \u001b[38;5;28msuper\u001b[39m()\u001b[38;5;241m.\u001b[39m\u001b[38;5;21m__init__\u001b[39m(\u001b[38;5;241m*\u001b[39margs, \u001b[38;5;241m*\u001b[39m\u001b[38;5;241m*\u001b[39mkwargs)\n",
      "\u001b[0;31mImportError\u001b[0m: cannot import name 'EVENT_TYPE_OPENED' from 'watchdog.events' (/usr/lib/python3/dist-packages/watchdog/events.py)"
     ]
    }
   ],
   "source": [
    "from flask import Flask, jsonify\n",
    "\n",
    "app = Flask(__name__)\n",
    "\n",
    "@app.route('/')\n",
    "def hello_world():\n",
    "    return jsonify(message=\"Hello, World!\")\n",
    "\n",
    "if __name__ == '__main__':\n",
    "    app.run(debug=True)"
   ]
  },
  {
   "cell_type": "markdown",
   "id": "bef38ff2-3ce1-4144-a1cd-68f8da3c2660",
   "metadata": {},
   "source": [
    "#### Django (High-level web framework)"
   ]
  },
  {
   "cell_type": "code",
   "execution_count": null,
   "id": "0d29106d-922c-4f80-bbfe-e3d4ff41a6e7",
   "metadata": {},
   "outputs": [],
   "source": [
    "# Assuming you've set up a Django project and app\n",
    "from django.http import JsonResponse\n",
    "\n",
    "def hello_world(request):\n",
    "    return JsonResponse({\"message\": \"Hello, World!\"})"
   ]
  },
  {
   "cell_type": "markdown",
   "id": "322e6731-333a-4d5d-b945-4d010ee69efd",
   "metadata": {},
   "source": [
    "### Microservices"
   ]
  },
  {
   "cell_type": "markdown",
   "id": "38f9b192-535d-4362-bd13-0c6e8becc1c1",
   "metadata": {},
   "source": [
    "#### Nameko (Microservices framework)"
   ]
  },
  {
   "cell_type": "code",
   "execution_count": null,
   "id": "849d727f-7386-402f-b132-34b332edf077",
   "metadata": {},
   "outputs": [],
   "source": [
    "from nameko.rpc import rpc\n",
    "\n",
    "class GreetingService:\n",
    "    name = \"greeting_service\"\n",
    "\n",
    "    @rpc\n",
    "    def hello(self, name):\n",
    "        return f\"Hello, {name}!\""
   ]
  },
  {
   "cell_type": "markdown",
   "id": "96a48acf-feba-4db1-b645-c65c0b631c5c",
   "metadata": {},
   "source": [
    "#### Connexion (Swagger/OpenAPI-first framework for Python)"
   ]
  },
  {
   "cell_type": "code",
   "execution_count": null,
   "id": "47616b7a-b899-4028-be66-f7ddc44f604d",
   "metadata": {},
   "outputs": [],
   "source": [
    "import connexion\n",
    "app = connexion.App(__name__, specification_dir='swagger/')\n",
    "app.add_api('my_api.yaml')\n",
    "app.run(port=8080)"
   ]
  },
  {
   "cell_type": "markdown",
   "id": "d56760b7-8c77-4052-be44-7ff76695a950",
   "metadata": {},
   "source": [
    "#### Service Discovery with Consul"
   ]
  },
  {
   "cell_type": "code",
   "execution_count": null,
   "id": "1bf4efed-59c1-4a2a-8115-392f437b4e5f",
   "metadata": {},
   "outputs": [],
   "source": [
    "import consul\n",
    "\n",
    "c = consul.Consul()\n",
    "# Register a new service\n",
    "c.agent.service.register('my_service', service_id='1', address='127.0.0.1', port=5000)\n",
    "# Discover services\n",
    "index, data = c.health.service('my_service')"
   ]
  },
  {
   "cell_type": "markdown",
   "id": "d2d0a16a-c923-4de2-a902-fbc04e4c4978",
   "metadata": {},
   "source": [
    "#### Inter-service Communication with gRPC"
   ]
  },
  {
   "cell_type": "code",
   "execution_count": null,
   "id": "cb7eca1a-5952-4da8-a64e-e845a1056f98",
   "metadata": {},
   "outputs": [],
   "source": [
    "# After setting up gRPC and defining .proto files\n",
    "import grpc\n",
    "from . import my_service_pb2_grpc, my_service_pb2\n",
    "\n",
    "with grpc.insecure_channel('localhost:50051') as channel:\n",
    "    stub = my_service_pb2_grpc.MyServiceStub(channel)\n",
    "    response = stub.MyMethod(my_service_pb2.MyRequest(name='world'))"
   ]
  }
 ],
 "metadata": {
  "kernelspec": {
   "display_name": "Python 3 (ipykernel)",
   "language": "python",
   "name": "python3"
  },
  "language_info": {
   "codemirror_mode": {
    "name": "ipython",
    "version": 3
   },
   "file_extension": ".py",
   "mimetype": "text/x-python",
   "name": "python",
   "nbconvert_exporter": "python",
   "pygments_lexer": "ipython3",
   "version": "3.10.12"
  }
 },
 "nbformat": 4,
 "nbformat_minor": 5
}
